{
 "cells": [
  {
   "cell_type": "code",
   "execution_count": 1,
   "metadata": {},
   "outputs": [
    {
     "name": "stderr",
     "output_type": "stream",
     "text": [
      "Using TensorFlow backend.\n"
     ]
    }
   ],
   "source": [
    "import keras\n",
    "from keras.models import Sequential\n",
    "from keras.layers import Dense, Dropout, Flatten\n",
    "from keras.layers import Conv2D, MaxPooling2D\n",
    "from keras.utils import to_categorical\n",
    "from keras.preprocessing import image\n",
    "import numpy as np\n",
    "import pandas as pd\n",
    "import matplotlib.pyplot as plt\n",
    "from sklearn.model_selection import train_test_split\n",
    "from keras.utils import to_categorical\n",
    "from tqdm import tqdm\n",
    "import tensorflow.keras\n",
    "from tensorflow.keras.models import Sequential\n",
    "from tensorflow.keras.layers import Dense, Dropout, Flatten\n",
    "from tensorflow.keras.layers import Conv2D, MaxPooling2D\n",
    "from tensorflow.keras import backend as K"
   ]
  },
  {
   "cell_type": "code",
   "execution_count": 2,
   "metadata": {},
   "outputs": [
    {
     "name": "stdout",
     "output_type": "stream",
     "text": [
      "                id  label\n",
      "0        blast (1)      1\n",
      "1        blast (2)      1\n",
      "2        blast (3)      1\n",
      "3        blast (4)      1\n",
      "4        blast (5)      1\n",
      "5        blast (6)      1\n",
      "6        blast (7)      1\n",
      "7        blast (8)      1\n",
      "8        blast (9)      1\n",
      "9       blast (10)      1\n",
      "10      blast (11)      1\n",
      "11      blast (12)      1\n",
      "12      blast (13)      1\n",
      "13      blast (14)      1\n",
      "14      blast (15)      1\n",
      "15      blast (16)      1\n",
      "16      blast (17)      1\n",
      "17      blast (18)      1\n",
      "18      blast (19)      1\n",
      "19      blast (20)      1\n",
      "20      blast (21)      1\n",
      "21      blast (22)      1\n",
      "22      blast (23)      1\n",
      "23      blast (24)      1\n",
      "24      blast (25)      1\n",
      "25      blast (26)      1\n",
      "26      blast (27)      1\n",
      "27      blast (28)      1\n",
      "28      blast (29)      1\n",
      "29      blast (30)      1\n",
      "...            ...    ...\n",
      "3030  healthy(481)      6\n",
      "3031  healthy(482)      6\n",
      "3032  healthy(483)      6\n",
      "3033  healthy(484)      6\n",
      "3034  healthy(485)      6\n",
      "3035  healthy(486)      6\n",
      "3036  healthy(487)      6\n",
      "3037  healthy(488)      6\n",
      "3038  healthy(489)      6\n",
      "3039  healthy(490)      6\n",
      "3040  healthy(491)      6\n",
      "3041  healthy(492)      6\n",
      "3042  healthy(493)      6\n",
      "3043  healthy(494)      6\n",
      "3044  healthy(495)      6\n",
      "3045  healthy(496)      6\n",
      "3046  healthy(497)      6\n",
      "3047  healthy(498)      6\n",
      "3048  healthy(499)      6\n",
      "3049  healthy(500)      6\n",
      "3050  healthy(501)      6\n",
      "3051  healthy(502)      6\n",
      "3052  healthy(503)      6\n",
      "3053  healthy(504)      6\n",
      "3054  healthy(505)      6\n",
      "3055  healthy(506)      6\n",
      "3056  healthy(507)      6\n",
      "3057  healthy(508)      6\n",
      "3058  healthy(509)      6\n",
      "3059  healthy(510)      6\n",
      "\n",
      "[3060 rows x 2 columns]\n"
     ]
    }
   ],
   "source": [
    "train = pd.read_csv('train.csv')\n",
    "print(train)"
   ]
  },
  {
   "cell_type": "code",
   "execution_count": 3,
   "metadata": {},
   "outputs": [
    {
     "data": {
      "text/plain": [
       "(3060, 2)"
      ]
     },
     "execution_count": 3,
     "metadata": {},
     "output_type": "execute_result"
    }
   ],
   "source": [
    "train.shape\n"
   ]
  },
  {
   "cell_type": "code",
   "execution_count": 4,
   "metadata": {},
   "outputs": [
    {
     "name": "stderr",
     "output_type": "stream",
     "text": [
      "  0%|                                                                                         | 0/3060 [00:00<?, ?it/s]C:\\Users\\shweta\\Anaconda3\\lib\\site-packages\\keras_preprocessing\\image\\utils.py:104: UserWarning: grayscale is deprecated. Please use color_mode = \"grayscale\"\n",
      "  warnings.warn('grayscale is deprecated. Please use '\n",
      "100%|█████████████████████████████████████████████████████████████████████████████| 3060/3060 [00:07<00:00, 391.68it/s]\n"
     ]
    },
    {
     "name": "stdout",
     "output_type": "stream",
     "text": [
      "[[[[0.90588236]\n",
      "   [0.90588236]\n",
      "   [0.90588236]\n",
      "   ...\n",
      "   [0.8627451 ]\n",
      "   [0.8627451 ]\n",
      "   [0.8627451 ]]\n",
      "\n",
      "  [[0.90588236]\n",
      "   [0.90588236]\n",
      "   [0.90588236]\n",
      "   ...\n",
      "   [0.8627451 ]\n",
      "   [0.8627451 ]\n",
      "   [0.85882354]]\n",
      "\n",
      "  [[0.90588236]\n",
      "   [0.90588236]\n",
      "   [0.9098039 ]\n",
      "   ...\n",
      "   [0.8627451 ]\n",
      "   [0.85882354]\n",
      "   [0.85882354]]\n",
      "\n",
      "  ...\n",
      "\n",
      "  [[0.8745098 ]\n",
      "   [0.8745098 ]\n",
      "   [0.8745098 ]\n",
      "   ...\n",
      "   [0.8       ]\n",
      "   [0.8       ]\n",
      "   [0.8       ]]\n",
      "\n",
      "  [[0.8745098 ]\n",
      "   [0.8745098 ]\n",
      "   [0.8745098 ]\n",
      "   ...\n",
      "   [0.8       ]\n",
      "   [0.8       ]\n",
      "   [0.8       ]]\n",
      "\n",
      "  [[0.8745098 ]\n",
      "   [0.8745098 ]\n",
      "   [0.8745098 ]\n",
      "   ...\n",
      "   [0.8       ]\n",
      "   [0.8       ]\n",
      "   [0.8       ]]]\n",
      "\n",
      "\n",
      " [[[0.7921569 ]\n",
      "   [0.79607844]\n",
      "   [0.8       ]\n",
      "   ...\n",
      "   [0.5764706 ]\n",
      "   [0.6       ]\n",
      "   [0.627451  ]]\n",
      "\n",
      "  [[0.7882353 ]\n",
      "   [0.7921569 ]\n",
      "   [0.79607844]\n",
      "   ...\n",
      "   [0.6       ]\n",
      "   [0.6313726 ]\n",
      "   [0.6627451 ]]\n",
      "\n",
      "  [[0.78431374]\n",
      "   [0.7882353 ]\n",
      "   [0.7921569 ]\n",
      "   ...\n",
      "   [0.6313726 ]\n",
      "   [0.6784314 ]\n",
      "   [0.7058824 ]]\n",
      "\n",
      "  ...\n",
      "\n",
      "  [[0.8235294 ]\n",
      "   [0.8235294 ]\n",
      "   [0.8235294 ]\n",
      "   ...\n",
      "   [0.9137255 ]\n",
      "   [0.9137255 ]\n",
      "   [0.9137255 ]]\n",
      "\n",
      "  [[0.8235294 ]\n",
      "   [0.8235294 ]\n",
      "   [0.8235294 ]\n",
      "   ...\n",
      "   [0.91764706]\n",
      "   [0.9137255 ]\n",
      "   [0.9137255 ]]\n",
      "\n",
      "  [[0.8235294 ]\n",
      "   [0.8235294 ]\n",
      "   [0.8235294 ]\n",
      "   ...\n",
      "   [0.91764706]\n",
      "   [0.9137255 ]\n",
      "   [0.9137255 ]]]\n",
      "\n",
      "\n",
      " [[[0.9254902 ]\n",
      "   [0.9254902 ]\n",
      "   [0.9254902 ]\n",
      "   ...\n",
      "   [0.3647059 ]\n",
      "   [0.35686275]\n",
      "   [0.3529412 ]]\n",
      "\n",
      "  [[0.9254902 ]\n",
      "   [0.9254902 ]\n",
      "   [0.9254902 ]\n",
      "   ...\n",
      "   [0.35686275]\n",
      "   [0.34901962]\n",
      "   [0.34509805]]\n",
      "\n",
      "  [[0.9254902 ]\n",
      "   [0.9254902 ]\n",
      "   [0.9254902 ]\n",
      "   ...\n",
      "   [0.34901962]\n",
      "   [0.34117648]\n",
      "   [0.3372549 ]]\n",
      "\n",
      "  ...\n",
      "\n",
      "  [[0.29411766]\n",
      "   [0.2901961 ]\n",
      "   [0.2901961 ]\n",
      "   ...\n",
      "   [0.98039216]\n",
      "   [0.98039216]\n",
      "   [0.98039216]]\n",
      "\n",
      "  [[0.29411766]\n",
      "   [0.2901961 ]\n",
      "   [0.2901961 ]\n",
      "   ...\n",
      "   [0.98039216]\n",
      "   [0.98039216]\n",
      "   [0.98039216]]\n",
      "\n",
      "  [[0.30588236]\n",
      "   [0.29803923]\n",
      "   [0.29803923]\n",
      "   ...\n",
      "   [0.98039216]\n",
      "   [0.98039216]\n",
      "   [0.98039216]]]\n",
      "\n",
      "\n",
      " ...\n",
      "\n",
      "\n",
      " [[[0.6862745 ]\n",
      "   [0.5921569 ]\n",
      "   [0.654902  ]\n",
      "   ...\n",
      "   [0.654902  ]\n",
      "   [0.6117647 ]\n",
      "   [0.7294118 ]]\n",
      "\n",
      "  [[0.6117647 ]\n",
      "   [0.58431375]\n",
      "   [0.63529414]\n",
      "   ...\n",
      "   [0.6117647 ]\n",
      "   [0.78431374]\n",
      "   [0.59607846]]\n",
      "\n",
      "  [[0.6901961 ]\n",
      "   [0.62352943]\n",
      "   [0.65882355]\n",
      "   ...\n",
      "   [0.5568628 ]\n",
      "   [0.60784316]\n",
      "   [0.6666667 ]]\n",
      "\n",
      "  ...\n",
      "\n",
      "  [[0.62352943]\n",
      "   [0.6       ]\n",
      "   [0.6313726 ]\n",
      "   ...\n",
      "   [0.60784316]\n",
      "   [0.5803922 ]\n",
      "   [0.6784314 ]]\n",
      "\n",
      "  [[0.69803923]\n",
      "   [0.5058824 ]\n",
      "   [0.7176471 ]\n",
      "   ...\n",
      "   [0.5882353 ]\n",
      "   [0.6666667 ]\n",
      "   [0.5764706 ]]\n",
      "\n",
      "  [[0.6313726 ]\n",
      "   [0.6745098 ]\n",
      "   [0.6509804 ]\n",
      "   ...\n",
      "   [0.654902  ]\n",
      "   [0.6509804 ]\n",
      "   [0.6666667 ]]]\n",
      "\n",
      "\n",
      " [[[0.8117647 ]\n",
      "   [0.8117647 ]\n",
      "   [0.8117647 ]\n",
      "   ...\n",
      "   [0.827451  ]\n",
      "   [0.827451  ]\n",
      "   [0.827451  ]]\n",
      "\n",
      "  [[0.8117647 ]\n",
      "   [0.8117647 ]\n",
      "   [0.8117647 ]\n",
      "   ...\n",
      "   [0.827451  ]\n",
      "   [0.827451  ]\n",
      "   [0.827451  ]]\n",
      "\n",
      "  [[0.8156863 ]\n",
      "   [0.8117647 ]\n",
      "   [0.80784315]\n",
      "   ...\n",
      "   [0.8235294 ]\n",
      "   [0.8235294 ]\n",
      "   [0.8235294 ]]\n",
      "\n",
      "  ...\n",
      "\n",
      "  [[0.8039216 ]\n",
      "   [0.8039216 ]\n",
      "   [0.8039216 ]\n",
      "   ...\n",
      "   [0.827451  ]\n",
      "   [0.827451  ]\n",
      "   [0.81960785]]\n",
      "\n",
      "  [[0.8       ]\n",
      "   [0.8039216 ]\n",
      "   [0.8039216 ]\n",
      "   ...\n",
      "   [0.8235294 ]\n",
      "   [0.8235294 ]\n",
      "   [0.81960785]]\n",
      "\n",
      "  [[0.7921569 ]\n",
      "   [0.79607844]\n",
      "   [0.8039216 ]\n",
      "   ...\n",
      "   [0.81960785]\n",
      "   [0.8235294 ]\n",
      "   [0.81960785]]]\n",
      "\n",
      "\n",
      " [[[0.79607844]\n",
      "   [0.8901961 ]\n",
      "   [0.8156863 ]\n",
      "   ...\n",
      "   [0.89411765]\n",
      "   [0.8745098 ]\n",
      "   [0.8901961 ]]\n",
      "\n",
      "  [[0.85490197]\n",
      "   [0.8745098 ]\n",
      "   [0.8784314 ]\n",
      "   ...\n",
      "   [0.8392157 ]\n",
      "   [0.92941177]\n",
      "   [0.87058824]]\n",
      "\n",
      "  [[0.78431374]\n",
      "   [0.90588236]\n",
      "   [0.7411765 ]\n",
      "   ...\n",
      "   [0.8509804 ]\n",
      "   [0.79607844]\n",
      "   [0.8862745 ]]\n",
      "\n",
      "  ...\n",
      "\n",
      "  [[0.8666667 ]\n",
      "   [0.88235295]\n",
      "   [0.8235294 ]\n",
      "   ...\n",
      "   [0.79607844]\n",
      "   [0.8117647 ]\n",
      "   [0.8666667 ]]\n",
      "\n",
      "  [[0.7764706 ]\n",
      "   [0.8392157 ]\n",
      "   [0.83137256]\n",
      "   ...\n",
      "   [0.85490197]\n",
      "   [0.8117647 ]\n",
      "   [0.78039217]]\n",
      "\n",
      "  [[0.6431373 ]\n",
      "   [0.7921569 ]\n",
      "   [0.84313726]\n",
      "   ...\n",
      "   [0.8627451 ]\n",
      "   [0.7019608 ]\n",
      "   [0.8509804 ]]]]\n"
     ]
    }
   ],
   "source": [
    "train_image = []\n",
    "for i in tqdm(range(train.shape[0])):\n",
    "    img = image.load_img('Dataset/Training/'+ train['id'][i] +'.jpg', grayscale=True)\n",
    "    img = image.img_to_array(img)\n",
    "    img = img/255\n",
    "    train_image.append(img)\n",
    "x = np.array(train_image)\n",
    "print(x)"
   ]
  },
  {
   "cell_type": "code",
   "execution_count": 5,
   "metadata": {},
   "outputs": [
    {
     "data": {
      "text/plain": [
       "(3060, 256, 256, 1)"
      ]
     },
     "execution_count": 5,
     "metadata": {},
     "output_type": "execute_result"
    }
   ],
   "source": [
    "x.shape"
   ]
  },
  {
   "cell_type": "code",
   "execution_count": 6,
   "metadata": {},
   "outputs": [],
   "source": [
    "y = train['label'].values\n",
    "y = to_categorical(y)"
   ]
  },
  {
   "cell_type": "code",
   "execution_count": 7,
   "metadata": {},
   "outputs": [
    {
     "data": {
      "text/plain": [
       "(3060, 7)"
      ]
     },
     "execution_count": 7,
     "metadata": {},
     "output_type": "execute_result"
    }
   ],
   "source": [
    "y.shape"
   ]
  },
  {
   "cell_type": "code",
   "execution_count": 8,
   "metadata": {},
   "outputs": [
    {
     "name": "stdout",
     "output_type": "stream",
     "text": [
      "[[0. 1. 0. ... 0. 0. 0.]\n",
      " [0. 1. 0. ... 0. 0. 0.]\n",
      " [0. 1. 0. ... 0. 0. 0.]\n",
      " ...\n",
      " [0. 0. 0. ... 0. 0. 1.]\n",
      " [0. 0. 0. ... 0. 0. 1.]\n",
      " [0. 0. 0. ... 0. 0. 1.]]\n"
     ]
    }
   ],
   "source": [
    "print(y)"
   ]
  },
  {
   "cell_type": "code",
   "execution_count": 9,
   "metadata": {},
   "outputs": [
    {
     "name": "stdout",
     "output_type": "stream",
     "text": [
      "(3060, 7)\n"
     ]
    }
   ],
   "source": [
    "print(y.shape)"
   ]
  },
  {
   "cell_type": "code",
   "execution_count": 10,
   "metadata": {},
   "outputs": [],
   "source": [
    "x_train, x_test, y_train, y_test = train_test_split(x, y, random_state=42, test_size=0.20)"
   ]
  },
  {
   "cell_type": "code",
   "execution_count": 11,
   "metadata": {},
   "outputs": [
    {
     "name": "stdout",
     "output_type": "stream",
     "text": [
      "WARNING:tensorflow:From C:\\Users\\shweta\\Anaconda3\\lib\\site-packages\\tensorflow\\python\\ops\\init_ops.py:1251: calling VarianceScaling.__init__ (from tensorflow.python.ops.init_ops) with dtype is deprecated and will be removed in a future version.\n",
      "Instructions for updating:\n",
      "Call initializer instance with the dtype argument instead of passing it to the constructor\n",
      "Train on 2448 samples, validate on 612 samples\n",
      "Epoch 1/30\n",
      "2448/2448 - 687s - loss: 1.3718 - acc: 0.4473 - val_loss: 1.1317 - val_acc: 0.6797\n",
      "Epoch 2/30\n",
      "2448/2448 - 698s - loss: 0.9331 - acc: 0.6585 - val_loss: 0.8956 - val_acc: 0.7206\n",
      "Epoch 3/30\n",
      "2448/2448 - 875s - loss: 0.6600 - acc: 0.7672 - val_loss: 0.7222 - val_acc: 0.7827\n",
      "Epoch 4/30\n",
      "2448/2448 - 918s - loss: 0.5385 - acc: 0.8043 - val_loss: 0.5520 - val_acc: 0.8301\n",
      "Epoch 5/30\n",
      "2448/2448 - 917s - loss: 0.4307 - acc: 0.8509 - val_loss: 0.4480 - val_acc: 0.8775\n",
      "Epoch 6/30\n",
      "2448/2448 - 910s - loss: 0.3564 - acc: 0.8775 - val_loss: 0.4563 - val_acc: 0.8627\n",
      "Epoch 7/30\n",
      "2448/2448 - 732s - loss: 0.3268 - acc: 0.8795 - val_loss: 0.3597 - val_acc: 0.8938\n",
      "Epoch 8/30\n",
      "2448/2448 - 610s - loss: 0.2870 - acc: 0.8975 - val_loss: 0.3863 - val_acc: 0.8775\n",
      "Epoch 9/30\n",
      "2448/2448 - 613s - loss: 0.2567 - acc: 0.9118 - val_loss: 0.2862 - val_acc: 0.8971\n",
      "Epoch 10/30\n",
      "2448/2448 - 616s - loss: 0.2661 - acc: 0.9020 - val_loss: 0.3282 - val_acc: 0.8922\n",
      "Epoch 11/30\n",
      "2448/2448 - 615s - loss: 0.2169 - acc: 0.9220 - val_loss: 0.2501 - val_acc: 0.9167\n",
      "Epoch 12/30\n",
      "2448/2448 - 611s - loss: 0.2358 - acc: 0.9203 - val_loss: 0.2682 - val_acc: 0.9167\n",
      "Epoch 13/30\n",
      "2448/2448 - 613s - loss: 0.2207 - acc: 0.9208 - val_loss: 0.3784 - val_acc: 0.8595\n",
      "Epoch 14/30\n",
      "2448/2448 - 612s - loss: 0.1671 - acc: 0.9457 - val_loss: 0.2112 - val_acc: 0.9150\n",
      "Epoch 15/30\n",
      "2448/2448 - 606s - loss: 0.1822 - acc: 0.9367 - val_loss: 0.2155 - val_acc: 0.9199\n",
      "Epoch 16/30\n",
      "2448/2448 - 608s - loss: 0.1857 - acc: 0.9379 - val_loss: 0.2119 - val_acc: 0.9101\n",
      "Epoch 17/30\n",
      "2448/2448 - 612s - loss: 0.1793 - acc: 0.9342 - val_loss: 0.2215 - val_acc: 0.9248\n",
      "Epoch 18/30\n",
      "2448/2448 - 613s - loss: 0.1746 - acc: 0.9428 - val_loss: 0.2057 - val_acc: 0.9216\n",
      "Epoch 19/30\n",
      "2448/2448 - 613s - loss: 0.1786 - acc: 0.9375 - val_loss: 0.2517 - val_acc: 0.9216\n",
      "Epoch 20/30\n",
      "2448/2448 - 615s - loss: 0.1282 - acc: 0.9538 - val_loss: 0.1924 - val_acc: 0.9314\n",
      "Epoch 21/30\n",
      "2448/2448 - 614s - loss: 0.2106 - acc: 0.9244 - val_loss: 0.2108 - val_acc: 0.9036\n",
      "Epoch 22/30\n",
      "2448/2448 - 612s - loss: 0.1455 - acc: 0.9428 - val_loss: 0.2388 - val_acc: 0.9118\n",
      "Epoch 23/30\n",
      "2448/2448 - 611s - loss: 0.1486 - acc: 0.9502 - val_loss: 0.2370 - val_acc: 0.9003\n",
      "Epoch 24/30\n",
      "2448/2448 - 610s - loss: 0.1097 - acc: 0.9563 - val_loss: 0.2101 - val_acc: 0.9265\n",
      "Epoch 25/30\n",
      "2448/2448 - 614s - loss: 0.1282 - acc: 0.9563 - val_loss: 0.2173 - val_acc: 0.9265\n",
      "Epoch 26/30\n",
      "2448/2448 - 610s - loss: 0.1113 - acc: 0.9641 - val_loss: 0.1738 - val_acc: 0.9363\n",
      "Epoch 27/30\n",
      "2448/2448 - 605s - loss: 0.1276 - acc: 0.9514 - val_loss: 0.2420 - val_acc: 0.9134\n",
      "Epoch 28/30\n",
      "2448/2448 - 615s - loss: 0.1357 - acc: 0.9510 - val_loss: 0.1800 - val_acc: 0.9346\n",
      "Epoch 29/30\n",
      "2448/2448 - 615s - loss: 0.0989 - acc: 0.9636 - val_loss: 0.2094 - val_acc: 0.9232\n",
      "Epoch 30/30\n",
      "2448/2448 - 618s - loss: 0.1306 - acc: 0.9604 - val_loss: 0.2038 - val_acc: 0.9330\n",
      "Test loss: 0.20378809193380518\n",
      "Test accuracy: 0.9330065250396729\n"
     ]
    }
   ],
   "source": [
    "\n",
    "model = Sequential()\n",
    "model.add(Conv2D(32, kernel_size=(3, 3),\n",
    "                 activation='relu',\n",
    "                 input_shape=( 256, 256, 1)))\n",
    "model.add(Conv2D(64, (3, 3), activation='relu'))\n",
    "model.add(MaxPooling2D(pool_size=(2, 2)))\n",
    "model.add(Dropout(0.25))\n",
    "model.add(MaxPooling2D(pool_size=(2, 2)))\n",
    "model.add(Conv2D(64, (3, 3), activation='relu'))\n",
    "model.add(MaxPooling2D(pool_size=(2, 2)))\n",
    "model.add(Dropout(0.25))\n",
    "model.add(MaxPooling2D(pool_size=(2, 2)))\n",
    "model.add(Dropout(0.5))\n",
    "model.add(Flatten())\n",
    "model.add(Dense(128, activation='relu'))\n",
    "model.add(Dropout(0.5))\n",
    "model.add(Dense(7, activation='softmax'))\n",
    "model.compile(loss='categorical_crossentropy', optimizer='adam',\n",
    "              metrics=['accuracy'])\n",
    "history=model.fit(x_train, y_train,\n",
    "          batch_size=10,\n",
    "          epochs=30,\n",
    "          verbose=2,\n",
    "          validation_data=(x_test, y_test))\n",
    "\n",
    "\n",
    "score = model.evaluate(x_test, y_test, verbose=0)\n",
    "print('Test loss: {}'.format(score[0]))\n",
    "print('Test accuracy: {}'.format(score[1]))"
   ]
  },
  {
   "cell_type": "code",
   "execution_count": 12,
   "metadata": {},
   "outputs": [
    {
     "name": "stdout",
     "output_type": "stream",
     "text": [
      "dict_keys(['loss', 'acc', 'val_loss', 'val_acc'])\n"
     ]
    }
   ],
   "source": [
    "print(history.history.keys())"
   ]
  },
  {
   "cell_type": "code",
   "execution_count": 13,
   "metadata": {},
   "outputs": [],
   "source": [
    "#save model\n",
    "model.save(\"Final_Major_Acc93.h5\")"
   ]
  },
  {
   "cell_type": "code",
   "execution_count": 17,
   "metadata": {},
   "outputs": [
    {
     "name": "stdout",
     "output_type": "stream",
     "text": [
      "[4 1 3 3 4 1 6 4 1 3 3 3 1 5 3 6 5 3 5 6 5 5 3 4 5 3 6 6 6 3 5 5 2 5 3 6 1\n",
      " 1 3 1 3 6 1 3 5 2 5 4 1 6 5 3 6 2 1 2 1 5 2 4 4 1 4 1 6 1 2 4 3 1 3 5 4 1\n",
      " 3 4 2 1 1 4 4 2 5 3 1 4 1 6 1 1 3 4 6 6 3 2 1 1 2 2 3 1 1 5 4 2 5 5 2 1 3\n",
      " 2 1 6 6 4 6 4 3 6 4 4 3 1 4 1 2 5 1 1 5 1 1 1 3 6 6 6 3 1 4 4 4 1 6 4 6 3\n",
      " 3 2 4 5 6 6 3 2 5 1 2 1 2 6 1 3 4 3 5 5 3 4 5 5 6 6 3 3 4 6 1 5 2 1 2 5 6\n",
      " 6 6 2 5 6 2 4 2 5 3 4 5 2 5 1 1 4 6 1 2 6 6 4 2 6 1 6 3 3 5 3 6 3 5 3 6 2\n",
      " 6 6 3 2 1 6 1 2 6 1 2 3 4 5 1 2 6 1 5 6 1 3 6 6 1 6 3 4 4 6 3 6 6 1 2 2 1\n",
      " 2 1 3 1 2 6 4 3 6 1 2 4 4 1 5 2 1 5 6 3 5 3 4 6 6 4 6 6 6 2 6 1 6 5 5 4 2\n",
      " 5 1 2 2 3 3 1 1 4 6 5 1 3 4 3 1 1 3 4 4 5 2 3 5 5 5 1 4 4 4 2 5 1 1 3 2 6\n",
      " 2 5 2 5 1 6 4 3 1 1 4 4 3 2 2 4 6 1 6 4 6 1 6 1 1 3 1 5 2 3 5 3 3 4 4 4 2\n",
      " 6 1 4 5 5 4 5 3 5 6 3 3 5 1 1 4 6 5 2 5 2 4 1 1 6 6 1 5 6 6 2 6 4 1 5 4 5\n",
      " 3 2 3 5 6 2 3 4 2 3 6 4 5 3 2 6 2 2 5 6 3 1 4 1 3 5 1 5 2 3 2 1 3 4 4 5 3\n",
      " 1 4 2 4 2 2 4 1 6 2 2 2 6 4 6 3 4 1 5 5 6 4 1 6 6 3 4 6 3 3 1 6 5 2 6 4 3\n",
      " 1 6 1 4 2 5 2 5 3 3 2 2 5 5 5 6 5 1 6 1 5 2 4 4 4 1 5 1 5 3 5 6 2 1 3 4 2\n",
      " 3 6 1 6 4 5 4 5 6 3 2 3 1 1 3 5 6 5 1 4 1 6 1 3 6 4 1 4 1 1 1 3 2 1 2 3 2\n",
      " 6 2 2 4 5 5 5 5 6 3 4 2 2 4 5 2 3 1 2 3 5 6 3 2 6 3 2 2 5 1 2 3 3 2 2 1 5\n",
      " 4 5 2 6 4 6 6 6 1 3 4 4 3 2 5 6 5 1 1 5]\n"
     ]
    }
   ],
   "source": [
    "expected_class = np.argmax(y_test,axis=1)\n",
    "print(expected_classes)"
   ]
  },
  {
   "cell_type": "code",
   "execution_count": 19,
   "metadata": {},
   "outputs": [
    {
     "data": {
      "text/plain": [
       "0.9330065359477124"
      ]
     },
     "execution_count": 19,
     "metadata": {},
     "output_type": "execute_result"
    }
   ],
   "source": [
    "#Score \n",
    "from sklearn.metrics import accuracy_score\n",
    "prediction = model.predict_classes(x_test)\n",
    "correct = accuracy_score(expected_class,prediction)\n",
    "correct"
   ]
  },
  {
   "cell_type": "code",
   "execution_count": 16,
   "metadata": {},
   "outputs": [
    {
     "data": {
      "image/png": "[encoded data removed]",
      "text/plain": [
       "<Figure size 432x288 with 1 Axes>"
      ]
     },
     "metadata": {
      "needs_background": "light"
     },
     "output_type": "display_data"
    },
    {
     "data": {
      "image/png": "[encoded data removed]",
      "text/plain": [
       "<Figure size 432x288 with 1 Axes>"
      ]
     },
     "metadata": {
      "needs_background": "light"
     },
     "output_type": "display_data"
    }
   ],
   "source": [
    "#Accuracy and Loss Plot\n",
    "import matplotlib.pyplot as plt\n",
    "# summarize history for accuracy\n",
    "plt.plot(history.history['acc'])\n",
    "plt.plot(history.history['val_acc'])\n",
    "plt.title('model accuracy')\n",
    "plt.ylabel('accuracy')\n",
    "plt.xlabel('epoch')\n",
    "plt.legend(['train', 'test'], loc='upper left')\n",
    "plt.savefig('accuplot93.jpg')\n",
    "plt.show()\n",
    "# summarize history for loss\n",
    "plt.plot(history.history['loss'])\n",
    "plt.plot(history.history['val_loss'])\n",
    "plt.title('model loss')\n",
    "plt.ylabel('loss')\n",
    "plt.xlabel('epoch')\n",
    "plt.legend(['train', 'test'], loc='upper left')\n",
    "plt.savefig('lossplot93.jpg')\n",
    "plt.show()"
   ]
  },
  {
   "cell_type": "code",
   "execution_count": 18,
   "metadata": {},
   "outputs": [],
   "source": [
    "# predict probabilities for test set\n",
    "y_probs = model.predict(x_test, verbose=0)\n",
    "# predict crisp classes for test set\n",
    "y_classes = model.predict_classes(x_test, verbose=0)\n",
    "# reduce to 1d array\n",
    "y_probs = y_probs[:, 0]\n",
    "# yhat_classes = yhat_classes[:, 0]"
   ]
  },
  {
   "cell_type": "code",
   "execution_count": 20,
   "metadata": {},
   "outputs": [],
   "source": [
    "from sklearn.metrics import accuracy_score\n",
    "from sklearn.metrics import precision_score\n",
    "from sklearn.metrics import recall_score\n",
    "from sklearn.metrics import f1_score\n",
    "from sklearn.metrics import cohen_kappa_score\n",
    "from sklearn.metrics import roc_auc_score\n",
    "from sklearn.metrics import confusion_matrix"
   ]
  },
  {
   "cell_type": "code",
   "execution_count": 21,
   "metadata": {},
   "outputs": [
    {
     "name": "stdout",
     "output_type": "stream",
     "text": [
      "Accuracy: 0.933007\n"
     ]
    }
   ],
   "source": [
    "# accuracy: (tp + tn) / (p + n)\n",
    "accuracy = accuracy_score(expected_class, y_classes)\n",
    "print('Accuracy: %f' % accuracy)"
   ]
  },
  {
   "cell_type": "code",
   "execution_count": 22,
   "metadata": {},
   "outputs": [
    {
     "name": "stdout",
     "output_type": "stream",
     "text": [
      "[0.95604396 0.77118644 0.95145631 1.         0.98979592 0.96330275]\n"
     ]
    }
   ],
   "source": [
    "# precision tp / (tp + fp)\n",
    "precision = precision_score(expected_class, y_classes, average=None)\n",
    "print(precision)"
   ]
  },
  {
   "cell_type": "code",
   "execution_count": 23,
   "metadata": {},
   "outputs": [
    {
     "name": "stdout",
     "output_type": "stream",
     "text": [
      "[0.73728814 0.96808511 0.97029703 1.         1.         0.96330275]\n"
     ]
    }
   ],
   "source": [
    "# recall: tp / (tp + fn)\n",
    "recall = recall_score(expected_class, y_classes, average=None)\n",
    "print(recall)"
   ]
  },
  {
   "cell_type": "code",
   "execution_count": 24,
   "metadata": {},
   "outputs": [
    {
     "name": "stdout",
     "output_type": "stream",
     "text": [
      "[0.83253589 0.85849057 0.96078431 1.         0.99487179 0.96330275]\n"
     ]
    }
   ],
   "source": [
    "# f1: 2 tp / (2 tp + fp + fn)\n",
    "f1 = f1_score(expected_class, y_classes, average=None)\n",
    "print(f1)"
   ]
  },
  {
   "cell_type": "code",
   "execution_count": 27,
   "metadata": {},
   "outputs": [
    {
     "name": "stdout",
     "output_type": "stream",
     "text": [
      "[[ 87  25   2   0   0   4]\n",
      " [  1  91   2   0   0   0]\n",
      " [  0   2  98   0   1   0]\n",
      " [  0   0   0  93   0   0]\n",
      " [  0   0   0   0  97   0]\n",
      " [  3   0   1   0   0 105]]\n"
     ]
    }
   ],
   "source": [
    "# confusion matrix\n",
    "matrix1 = confusion_matrix(expected_class, y_classes)\n",
    "print(matrix1)"
   ]
  },
  {
   "cell_type": "code",
   "execution_count": 28,
   "metadata": {},
   "outputs": [
    {
     "name": "stdout",
     "output_type": "stream",
     "text": [
      "                  precision    recall  f1-score   support\n",
      "\n",
      "       Leaf Smut       0.96      0.74      0.83       118\n",
      "Bacterial Blight       0.77      0.97      0.86        94\n",
      "      Brown Spot       0.95      0.97      0.96       101\n",
      "   Sheath Blight       1.00      1.00      1.00        93\n",
      "          Tungro       0.99      1.00      0.99        97\n",
      "         Healthy       0.96      0.96      0.96       109\n",
      "\n",
      "        accuracy                           0.93       612\n",
      "       macro avg       0.94      0.94      0.93       612\n",
      "    weighted avg       0.94      0.93      0.93       612\n",
      "\n"
     ]
    }
   ],
   "source": [
    "from sklearn.metrics import classification_report\n",
    "target_names = ['Leaf Smut', 'Bacterial Blight', 'Brown Spot', 'Sheath Blight', 'Tungro', 'Healthy']\n",
    "print(classification_report(expected_class, y_classes, target_names=target_names))"
   ]
  },
  {
   "cell_type": "code",
   "execution_count": 45,
   "metadata": {},
   "outputs": [],
   "source": [
    "import numpy as np\n",
    "\n",
    "\n",
    "def plot_confusion_matrix(cm,\n",
    "                          target_names,\n",
    "                          title='Confusion matrix \\n',\n",
    "                          cmap=None,\n",
    "                          normalize=True):\n",
    "    import matplotlib.pyplot as plt\n",
    "    import numpy as np\n",
    "    import itertools\n",
    "\n",
    "    accuracy = np.trace(cm) / float(np.sum(cm))\n",
    "    misclass = 1 - accuracy\n",
    "\n",
    "    if cmap is None:\n",
    "        cmap = plt.get_cmap('Blues')\n",
    "\n",
    "    plt.figure(figsize=(8,6))\n",
    "    plt.imshow(cm, interpolation='nearest', cmap=cmap, origin='lower')\n",
    "    plt.title(title)\n",
    "    plt.colorbar()\n",
    "\n",
    "    if target_names is not None:\n",
    "        tick_marks = np.arange(len(target_names))\n",
    "        plt.xticks(tick_marks, target_names, rotation=45)\n",
    "        plt.yticks(tick_marks, target_names)\n",
    "\n",
    "    if normalize:\n",
    "        cm = cm.astype('float') / cm.sum(axis=1)[:, np.newaxis]\n",
    "\n",
    "\n",
    "    thresh = cm.max() / 1.5 if normalize else cm.max() / 2\n",
    "    for i, j in itertools.product(range(cm.shape[0]), range(cm.shape[1])):\n",
    "        if normalize:\n",
    "            plt.text(j, i, \"{:0.4f}\".format(cm[i, j]),\n",
    "                     horizontalalignment=\"center\",\n",
    "                     color=\"white\" if cm[i, j] > thresh else \"black\")\n",
    "        else:\n",
    "            plt.text(j, i, \"{:,}\".format(cm[i, j]),\n",
    "                     horizontalalignment=\"center\",\n",
    "                     color=\"white\" if cm[i, j] > thresh else \"black\")\n",
    "\n",
    "\n",
    "    plt.tight_layout()\n",
    "    plt.ylabel('True label')\n",
    "#     plt.xlabel('Predicted label\\naccuracy={:0.4f}; misclass={:0.4f}'.format(accuracy, misclass))\n",
    "    plt.show()"
   ]
  },
  {
   "cell_type": "code",
   "execution_count": 147,
   "metadata": {},
   "outputs": [
    {
     "data": {
      "image/png": "[encoded data removed]",
      "text/plain": [
       "<Figure size 576x432 with 2 Axes>"
      ]
     },
     "metadata": {
      "needs_background": "light"
     },
     "output_type": "display_data"
    }
   ],
   "source": [
    "\n",
    "plt1=plot_confusion_matrix(cm           = matrix1, \n",
    "                      normalize    = False,\n",
    "                      target_names = target_names,\n",
    "                      title        = \"Confusion Matrix \\n\\n\")\n"
   ]
  },
  {
   "cell_type": "code",
   "execution_count": 62,
   "metadata": {},
   "outputs": [
    {
     "name": "stdout",
     "output_type": "stream",
     "text": [
      "              id  label\n",
      "0      blast (1)      1\n",
      "1      blast (2)      1\n",
      "2      blast (3)      1\n",
      "3      blast (4)      1\n",
      "4      blast (5)      1\n",
      "5      blast (6)      1\n",
      "6      blast (7)      1\n",
      "7      blast (8)      1\n",
      "8      blast (9)      1\n",
      "9     blast (10)      1\n",
      "10    blast (11)      1\n",
      "11    blast (12)      1\n",
      "12    blast (13)      1\n",
      "13    blast (14)      1\n",
      "14    blast (15)      1\n",
      "15    blast (16)      1\n",
      "16    blast (17)      1\n",
      "17    blast (18)      1\n",
      "18    blast (19)      1\n",
      "19    blast (20)      1\n",
      "20    blast (21)      1\n",
      "21    blast (22)      1\n",
      "22    blast (23)      1\n",
      "23    blast (24)      1\n",
      "24    blast (25)      1\n",
      "25    blast (26)      1\n",
      "26    blast (27)      1\n",
      "27    blast (28)      1\n",
      "28    blast (29)      1\n",
      "29    blast (30)      1\n",
      "..           ...    ...\n",
      "270  healthy(21)      6\n",
      "271  healthy(22)      6\n",
      "272  healthy(23)      6\n",
      "273  healthy(24)      6\n",
      "274  healthy(25)      6\n",
      "275  healthy(26)      6\n",
      "276  healthy(27)      6\n",
      "277  healthy(28)      6\n",
      "278  healthy(29)      6\n",
      "279  healthy(30)      6\n",
      "280  healthy(31)      6\n",
      "281  healthy(32)      6\n",
      "282  healthy(33)      6\n",
      "283  healthy(34)      6\n",
      "284  healthy(35)      6\n",
      "285  healthy(36)      6\n",
      "286  healthy(37)      6\n",
      "287  healthy(38)      6\n",
      "288  healthy(39)      6\n",
      "289  healthy(40)      6\n",
      "290  healthy(41)      6\n",
      "291  healthy(42)      6\n",
      "292  healthy(43)      6\n",
      "293  healthy(44)      6\n",
      "294  healthy(45)      6\n",
      "295  healthy(46)      6\n",
      "296  healthy(47)      6\n",
      "297  healthy(48)      6\n",
      "298  healthy(49)      6\n",
      "299  healthy(50)      6\n",
      "\n",
      "[300 rows x 2 columns]\n"
     ]
    }
   ],
   "source": [
    "test = pd.read_csv(r'C:\\Users\\shweta\\Desktop\\deep\\Major1.0\\test2 .csv')\n",
    "print(test)\n"
   ]
  },
  {
   "cell_type": "code",
   "execution_count": 63,
   "metadata": {},
   "outputs": [
    {
     "data": {
      "text/plain": [
       "(300, 2)"
      ]
     },
     "execution_count": 63,
     "metadata": {},
     "output_type": "execute_result"
    }
   ],
   "source": [
    "test.shape"
   ]
  },
  {
   "cell_type": "code",
   "execution_count": 65,
   "metadata": {},
   "outputs": [
    {
     "name": "stderr",
     "output_type": "stream",
     "text": [
      "100%|███████████████████████████████████████████████████████████████████████████████| 300/300 [00:00<00:00, 361.47it/s]\n"
     ]
    }
   ],
   "source": [
    "test_image = []\n",
    "for i in tqdm(range(test.shape[0])):\n",
    "    img = image.load_img('Dataset/Testing/'+ test['id'][i] +'.jpg', grayscale=True)\n",
    "    img = image.img_to_array(img)\n",
    "    img = img/255\n",
    "    test_image.append(img)\n",
    "test2 = np.array(test_image)"
   ]
  },
  {
   "cell_type": "code",
   "execution_count": 66,
   "metadata": {},
   "outputs": [
    {
     "name": "stdout",
     "output_type": "stream",
     "text": [
      "(300, 256, 256, 1)\n"
     ]
    }
   ],
   "source": [
    "print(test2.shape)\n",
    "y=test['label'].values\n",
    "y = to_categorical(y)"
   ]
  },
  {
   "cell_type": "code",
   "execution_count": 67,
   "metadata": {},
   "outputs": [
    {
     "name": "stdout",
     "output_type": "stream",
     "text": [
      "[1 1 1 1 1 1 1 1 1 1 1 1 1 1 1 1 1 1 1 1 1 1 1 1 1 1 1 1 1 1 1 1 1 1 1 1 1\n",
      " 1 1 1 1 1 1 1 1 1 1 1 1 1 2 2 2 2 2 2 2 2 2 2 2 2 2 2 2 2 2 2 2 2 2 2 2 2\n",
      " 2 2 2 2 2 2 2 2 2 2 2 2 2 2 2 2 2 2 2 2 2 2 2 2 2 2 3 3 3 3 3 3 3 3 3 3 3\n",
      " 3 3 3 3 3 3 3 3 3 3 3 3 3 3 3 3 3 3 3 3 3 3 3 3 3 3 3 3 3 3 3 3 3 3 3 3 3\n",
      " 3 3 4 4 4 4 4 4 4 4 4 4 4 4 4 4 4 4 4 4 4 4 4 4 4 4 4 4 4 4 4 4 4 4 4 4 4\n",
      " 4 4 4 4 4 4 4 4 4 4 4 4 4 4 4 5 5 5 5 5 5 5 5 5 5 5 5 5 5 5 5 5 5 5 5 5 5\n",
      " 5 5 5 5 5 5 5 5 5 5 5 5 5 5 5 5 5 5 5 5 5 5 5 5 5 5 5 5 6 6 6 6 6 6 6 6 6\n",
      " 6 6 6 6 6 6 6 6 6 6 6 6 6 6 6 6 6 6 6 6 6 6 6 6 6 6 6 6 6 6 6 6 6 6 6 6 6\n",
      " 6 6 6 6]\n"
     ]
    }
   ],
   "source": [
    "expected_classes = np.argmax(y,axis=1)\n",
    "print(expected_classes)"
   ]
  },
  {
   "cell_type": "code",
   "execution_count": 68,
   "metadata": {},
   "outputs": [
    {
     "name": "stdout",
     "output_type": "stream",
     "text": [
      "[1 2 3 1 1 3 2 1 2 1 1 1 2 2 1 1 1 2 1 1 1 1 1 2 1 2 1 2 1 1 2 2 1 1 1 2 2\n",
      " 2 1 1 2 1 1 2 1 2 1 2 2 2 2 2 2 2 3 2 2 3 2 2 2 4 2 2 2 2 2 2 2 2 2 2 2 2\n",
      " 2 2 2 2 2 2 2 2 2 2 2 2 2 2 2 2 2 2 2 2 2 3 2 2 2 2 3 3 3 3 3 3 3 3 3 3 3\n",
      " 3 3 3 3 3 3 2 3 3 3 3 3 3 3 3 3 3 3 3 3 3 3 3 3 3 3 3 3 3 3 3 3 3 3 3 3 3\n",
      " 3 3 4 4 4 4 4 4 4 4 4 4 4 4 4 4 4 4 4 4 4 4 4 4 4 4 4 4 4 4 4 4 4 4 4 4 4\n",
      " 4 4 4 4 4 4 4 4 4 4 4 4 4 4 4 5 5 5 5 5 5 5 5 5 5 5 5 5 5 5 5 5 5 5 5 5 5\n",
      " 5 5 5 5 5 5 5 5 5 5 5 5 5 5 5 5 5 5 5 5 5 5 5 5 5 5 5 5 6 6 6 6 6 6 6 6 6\n",
      " 6 6 6 6 6 6 6 6 6 6 6 6 6 6 6 6 6 6 6 6 6 6 6 6 6 6 6 6 6 6 6 6 6 1 6 6 6\n",
      " 6 6 6 6]\n"
     ]
    }
   ],
   "source": [
    "prediction = model.predict_classes(test2)\n",
    "print(prediction)"
   ]
  },
  {
   "cell_type": "code",
   "execution_count": 37,
   "metadata": {},
   "outputs": [],
   "source": [
    "# predict probabilities for test set\n",
    "yhat_probs = model.predict(test1, verbose=0)\n",
    "# predict crisp classes for test set\n",
    "yhat_classes = model.predict_classes(test1, verbose=0)\n",
    "# reduce to 1d array\n",
    "yhat_probs = yhat_probs[:, 0]\n",
    "# yhat_classes = yhat_classes[:, 0]"
   ]
  },
  {
   "cell_type": "code",
   "execution_count": 125,
   "metadata": {},
   "outputs": [],
   "source": [
    "# demonstration of calculating metrics for a neural network model using sklearn\n",
    "from sklearn.metrics import accuracy_score\n",
    "from sklearn.metrics import precision_score\n",
    "from sklearn.metrics import recall_score\n",
    "from sklearn.metrics import f1_score\n",
    "from sklearn.metrics import cohen_kappa_score\n",
    "from sklearn.metrics import roc_auc_score\n",
    "from sklearn.metrics import confusion_matrix"
   ]
  },
  {
   "cell_type": "code",
   "execution_count": 38,
   "metadata": {},
   "outputs": [
    {
     "name": "stdout",
     "output_type": "stream",
     "text": [
      "Accuracy: 0.906667\n"
     ]
    }
   ],
   "source": [
    "# accuracy: (tp + tn) / (p + n)\n",
    "accuracy = accuracy_score(expected_classes, yhat_classes)\n",
    "print('Accuracy: %f' % accuracy)"
   ]
  },
  {
   "cell_type": "code",
   "execution_count": 39,
   "metadata": {},
   "outputs": [
    {
     "name": "stdout",
     "output_type": "stream",
     "text": [
      "[0.96551724 0.68656716 0.90740741 0.98039216 1.         1.        ]\n"
     ]
    }
   ],
   "source": [
    "# precision tp / (tp + fp)\n",
    "precision = precision_score(expected_classes, yhat_classes, average=None)\n",
    "print(precision)"
   ]
  },
  {
   "cell_type": "code",
   "execution_count": 41,
   "metadata": {},
   "outputs": [
    {
     "name": "stdout",
     "output_type": "stream",
     "text": [
      "[0.56 0.92 0.98 1.   1.   0.98]\n"
     ]
    }
   ],
   "source": [
    "# recall: tp / (tp + fn)\n",
    "recall = recall_score(expected_classes, yhat_classes, average=None)\n",
    "print(recall)"
   ]
  },
  {
   "cell_type": "code",
   "execution_count": 42,
   "metadata": {},
   "outputs": [
    {
     "name": "stdout",
     "output_type": "stream",
     "text": [
      "[0.70886076 0.78632479 0.94230769 0.99009901 1.         0.98989899]\n"
     ]
    }
   ],
   "source": [
    "# f1: 2 tp / (2 tp + fp + fn)\n",
    "f1 = f1_score(expected_classes, yhat_classes, average=None)\n",
    "print(f1)"
   ]
  },
  {
   "cell_type": "code",
   "execution_count": 43,
   "metadata": {},
   "outputs": [
    {
     "name": "stdout",
     "output_type": "stream",
     "text": [
      "[[28 20  2  0  0  0]\n",
      " [ 0 46  3  1  0  0]\n",
      " [ 0  1 49  0  0  0]\n",
      " [ 0  0  0 50  0  0]\n",
      " [ 0  0  0  0 50  0]\n",
      " [ 1  0  0  0  0 49]]\n"
     ]
    }
   ],
   "source": [
    "# confusion matrix\n",
    "matrix = confusion_matrix(expected_classes, yhat_classes)\n",
    "print(matrix)"
   ]
  },
  {
   "cell_type": "code",
   "execution_count": 44,
   "metadata": {},
   "outputs": [
    {
     "name": "stdout",
     "output_type": "stream",
     "text": [
      "                  precision    recall  f1-score   support\n",
      "\n",
      "       Leaf Smut       0.97      0.56      0.71        50\n",
      "Bacterial Blight       0.69      0.92      0.79        50\n",
      "      Brown Spot       0.91      0.98      0.94        50\n",
      "   Sheath Blight       0.98      1.00      0.99        50\n",
      "          Tungro       1.00      1.00      1.00        50\n",
      "         Healthy       1.00      0.98      0.99        50\n",
      "\n",
      "        accuracy                           0.91       300\n",
      "       macro avg       0.92      0.91      0.90       300\n",
      "    weighted avg       0.92      0.91      0.90       300\n",
      "\n"
     ]
    }
   ],
   "source": [
    "from sklearn.metrics import classification_report\n",
    "target_names = ['Leaf Smut', 'Bacterial Blight', 'Brown Spot', 'Sheath Blight', 'Tungro', 'Healthy']\n",
    "print(classification_report(expected_classes, yhat_classes, target_names=target_names))"
   ]
  },
  {
   "cell_type": "code",
   "execution_count": 46,
   "metadata": {},
   "outputs": [
    {
     "data": {
      "image/png": "[encoded data removed]",
      "text/plain": [
       "<Figure size 576x432 with 2 Axes>"
      ]
     },
     "metadata": {
      "needs_background": "light"
     },
     "output_type": "display_data"
    }
   ],
   "source": [
    "plot_confusion_matrix(cm           = matrix, \n",
    "                      normalize    = False,\n",
    "                      target_names = target_names,\n",
    "                      title        = \"Confusion Matrix \\n\\n\")"
   ]
  },
  {
   "cell_type": "code",
   "execution_count": 137,
   "metadata": {},
   "outputs": [],
   "source": [
    "#for checking the model prediction\n",
    "from keras.preprocessing import image\n",
    "import numpy as np\n",
    "import cv2\n",
    "test_image1 = []\n",
    "for i in range(1,51):\n",
    "    \n",
    "    img = image.load_img(r\"C:\\Users\\shweta\\Desktop\\deep\\Major1.0\\Dataset\\Testing\\healthy(\"+str(i)+\").jpg\", grayscale=True)\n",
    "    img = image.img_to_array(img)\n",
    "    test_image1.append(img)\n",
    "test1 = np.array(test_image1)\n",
    "#print(test1.shape)\n",
    "#prediction = model.predict_classes(test1)"
   ]
  },
  {
   "cell_type": "code",
   "execution_count": 138,
   "metadata": {},
   "outputs": [
    {
     "name": "stdout",
     "output_type": "stream",
     "text": [
      "[6 1 1 6 6 6 6 1 1 6 1 6 1 1 1 6 1 1 6 6 1 1 1 6 1 6 6 1 1 6 6 6 1 1 1 1 1\n",
      " 1 1 6 6 1 3 6 6 6 6 1 1 1]\n"
     ]
    }
   ],
   "source": [
    "import tensorflow as tf \n",
    "classifierLoad = tf.keras.models.load_model('Final_Major_Acc93.h5')\n",
    "new_predictions = classifierLoad.predict_classes(test1 )\n",
    "print(new_predictions)"
   ]
  },
  {
   "cell_type": "code",
   "execution_count": 140,
   "metadata": {},
   "outputs": [
    {
     "name": "stdout",
     "output_type": "stream",
     "text": [
      "[6 3 6 6 6 6 6 3 6 6 6 6 6 6 6 6 6 3 6 6 6 6 6 6 6 6 6 6 6 6 6 6 6 6 6 6 6\n",
      " 6 6 6 6 6 6 6 6 6 6 6 6 6]\n"
     ]
    }
   ],
   "source": [
    "\n",
    "import tensorflow as tf \n",
    "classifierLoad = tf.keras.models.load_model('Final_Major_Acc84.h5')\n",
    "new_predictions1 = classifierLoad.predict_classes(test1 )\n",
    "print(new_predictions1)"
   ]
  },
  {
   "cell_type": "code",
   "execution_count": 141,
   "metadata": {},
   "outputs": [
    {
     "name": "stdout",
     "output_type": "stream",
     "text": [
      "[6 3 6 6 6 6 4 3 6 6 3 6 6 3 6 6 6 6 3 6 6 6 6 6 6 6 6 6 6 6 6 6 6 7 6 6 6\n",
      " 6 6 6 6 6 6 6 6 3 6 6 6 6]\n"
     ]
    }
   ],
   "source": [
    "import tensorflow as tf \n",
    "classifierLoad = tf.keras.models.load_model('Major2_Acc86.h5')\n",
    "new_predictions = classifierLoad.predict_classes(test1 )\n",
    "print(new_predictions)"
   ]
  },
  {
   "cell_type": "code",
   "execution_count": null,
   "metadata": {},
   "outputs": [],
   "source": []
  }
 ],
 "metadata": {
  "kernelspec": {
   "display_name": "Python 3",
   "language": "python",
   "name": "python3"
  },
  "language_info": {
   "codemirror_mode": {
    "name": "ipython",
    "version": 3
   },
   "file_extension": ".py",
   "mimetype": "text/x-python",
   "name": "python",
   "nbconvert_exporter": "python",
   "pygments_lexer": "ipython3",
   "version": "3.6.8"
  }
 },
 "nbformat": 4,
 "nbformat_minor": 2
}
